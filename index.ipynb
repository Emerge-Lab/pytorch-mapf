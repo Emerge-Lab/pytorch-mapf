{
 "cells": [
  {
   "cell_type": "code",
   "execution_count": 59,
   "metadata": {},
   "outputs": [],
   "source": [
    "import torch\n",
    "import json\n",
    "import os\n",
    "from pathlib import Path\n",
    "import numpy as np"
   ]
  },
  {
   "cell_type": "code",
   "execution_count": null,
   "metadata": {},
   "outputs": [],
   "source": [
    "class Env:\n",
    "    def __init__(self, envFile):\n",
    "        self.file_path = Path(envFile)\n",
    "        with open(envFile) as f:\n",
    "            self.data = json.load(f)\n",
    "        self.parseMap()\n",
    "        self.parseAgents()\n",
    "        self.parseTasks()\n",
    "        self.numTasksReveal = int(self.data[\"numTasksReveal\"])\n",
    "        self.taskAssignmentStrategy = self.data[\"taskAssignmentStrategy\"]\n",
    "\n",
    "    def parseMap(self):\n",
    "        with open(self.file_path.parent/self.data[\"mapFile\"]) as f:\n",
    "            lines = f.readlines()\n",
    "        type_map = lines[0].strip().split(\" \")\n",
    "        height = int(lines[1].strip().split(\" \")[1])\n",
    "        width = int(lines[2].strip().split(\" \")[1])\n",
    "        map_str = lines[3]\n",
    "        self.map_1darr = []\n",
    "        for line in lines[4:]:\n",
    "            for char in line.strip():\n",
    "                self.map_1darr.append(char)\n",
    "        \n",
    "    def parseAgents(self):\n",
    "        with open(self.file_path.parent/self.data[\"agentFile\"]) as f:\n",
    "            lines = f.readlines()\n",
    "        self.n_agents = int(lines[0].strip().split(\" \")[0])\n",
    "        self.agents = []\n",
    "        for line in lines[1:]:\n",
    "            self.agents.append(int(line.strip().split(\" \")[0]))\n",
    "        self.agents = np.array(self.agents)\n",
    "\n",
    "    def parseTasks(self):\n",
    "        with open(self.file_path.parent/self.data[\"taskFile\"]) as f:\n",
    "            lines = f.readlines()\n",
    "        self.n_tasks = int(lines[0].strip().split(\" \")[0])\n",
    "        self.tasks = []\n",
    "        for line in lines[1:]:\n",
    "            self.tasks.append(int(line.strip().split(\" \")[0]))\n",
    "        self.tasks = np.array(self.tasks)\n",
    "\n",
    "class BatchedEnvironment:\n",
    "    def __init__(self, environments):\n",
    "        self.maps = torch.stack([torch.tensor(env.map, dtype=torch.float32) for env in environments])\n",
    "        self.curr_states = torch.stack([torch.tensor(env.agents) for env in environments])\n",
    "        self.goal_locations = torch.stack([torch.tensor(env.tasks) for env in environments])\n"
   ]
  },
  {
   "cell_type": "code",
   "execution_count": 55,
   "metadata": {},
   "outputs": [],
   "source": [
    "p = [\"/home/aarav/aaravpandya/example_problems/city.domain/paris_200.json\", \"/home/aarav/aaravpandya/example_problems/game.domain/brc202d_200.json\"]\n",
    "envs = []\n",
    "for e in p:\n",
    "    envs.append(Env(e))"
   ]
  },
  {
   "cell_type": "code",
   "execution_count": 58,
   "metadata": {},
   "outputs": [
    {
     "data": {
      "text/plain": [
       "(200,)"
      ]
     },
     "execution_count": 58,
     "metadata": {},
     "output_type": "execute_result"
    }
   ],
   "source": []
  },
  {
   "cell_type": "code",
   "execution_count": null,
   "metadata": {},
   "outputs": [],
   "source": []
  }
 ],
 "metadata": {
  "kernelspec": {
   "display_name": "amazon",
   "language": "python",
   "name": "python3"
  },
  "language_info": {
   "codemirror_mode": {
    "name": "ipython",
    "version": 3
   },
   "file_extension": ".py",
   "mimetype": "text/x-python",
   "name": "python",
   "nbconvert_exporter": "python",
   "pygments_lexer": "ipython3",
   "version": "3.11.5"
  }
 },
 "nbformat": 4,
 "nbformat_minor": 2
}
